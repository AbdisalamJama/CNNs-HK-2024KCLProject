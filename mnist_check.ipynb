{
 "cells": [
  {
   "cell_type": "code",
   "execution_count": 2,
   "metadata": {},
   "outputs": [],
   "source": [
    "from torchvision.datasets import MNIST\n",
    "from torchvision import transforms\n",
    "import numpy as np"
   ]
  },
  {
   "cell_type": "code",
   "execution_count": 34,
   "metadata": {},
   "outputs": [],
   "source": [
    "path='/home/hep/shayashi/work/students/pytorch-lightning-examples/CNNs-HK'\n",
    "trans=transforms.Compose([transforms.ToTensor(), transforms.Normalize((0.1307), (0.3081))])\n",
    "#trans=transforms.Compose([transforms.ToTensor(), transforms.Normalize((0.5),(0.5))]) #mean=0.5, std=0.5\n",
    "trans2=transforms.Compose([transforms.ToTensor()])\n",
    "mnist=MNIST(path, train=True, download=True, transform=trans)\n",
    "mnist2=MNIST(path, train=True, download=True, transform=trans2)"
   ]
  },
  {
   "cell_type": "code",
   "execution_count": 35,
   "metadata": {},
   "outputs": [
    {
     "name": "stdout",
     "output_type": "stream",
     "text": [
      "Dataset MNIST\n",
      "    Number of datapoints: 60000\n",
      "    Root location: /home/hep/shayashi/work/students/pytorch-lightning-examples/CNNs-HK\n",
      "    Split: Train\n",
      "    StandardTransform\n",
      "Transform: Compose(\n",
      "               ToTensor()\n",
      "               Normalize(mean=0.1307, std=0.3081)\n",
      "           )\n",
      "Dataset MNIST\n",
      "    Number of datapoints: 60000\n",
      "    Root location: /home/hep/shayashi/work/students/pytorch-lightning-examples/CNNs-HK\n",
      "    Split: Train\n",
      "    StandardTransform\n",
      "Transform: Compose(\n",
      "               ToTensor()\n",
      "           )\n"
     ]
    }
   ],
   "source": [
    "print(mnist)\n",
    "print(mnist2)\n",
    "img,lab=mnist[0]\n",
    "img2,lab2=mnist2[0]"
   ]
  },
  {
   "cell_type": "code",
   "execution_count": 38,
   "metadata": {},
   "outputs": [
    {
     "data": {
      "text/plain": [
       "(tensor(-0.4242), tensor(2.8215), tensor(0.), tensor(1.))"
      ]
     },
     "execution_count": 38,
     "metadata": {},
     "output_type": "execute_result"
    }
   ],
   "source": [
    "img.min(), img.max(), img2.min(), img2.max()"
   ]
  },
  {
   "cell_type": "code",
   "execution_count": 39,
   "metadata": {},
   "outputs": [
    {
     "data": {
      "text/plain": [
       "(tensor(0.0227), tensor(1.0144), tensor(0.1377), tensor(0.3125))"
      ]
     },
     "execution_count": 39,
     "metadata": {},
     "output_type": "execute_result"
    }
   ],
   "source": [
    "img.mean(), img.std(), img2.mean(), img2.std()"
   ]
  }
 ],
 "metadata": {
  "kernelspec": {
   "display_name": "Python 3",
   "language": "python",
   "name": "python3"
  },
  "language_info": {
   "codemirror_mode": {
    "name": "ipython",
    "version": 3
   },
   "file_extension": ".py",
   "mimetype": "text/x-python",
   "name": "python",
   "nbconvert_exporter": "python",
   "pygments_lexer": "ipython3",
   "version": "3.9.18"
  }
 },
 "nbformat": 4,
 "nbformat_minor": 2
}
